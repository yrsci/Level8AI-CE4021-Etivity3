{
 "cells": [
  {
   "cell_type": "markdown",
   "metadata": {},
   "source": [
    "# Notebook E-tivity 3 CE4021 Task 2"
   ]
  },
  {
   "cell_type": "markdown",
   "metadata": {},
   "source": [
    "Student name: Yvonne Ryan"
   ]
  },
  {
   "cell_type": "markdown",
   "metadata": {},
   "source": [
    "Student ID: 21208298"
   ]
  },
  {
   "cell_type": "markdown",
   "metadata": {},
   "source": [
    "<hr style=\\\"border:2px solid gray\\\"> </hr>"
   ]
  },
  {
   "cell_type": "markdown",
   "metadata": {},
   "source": [
    "## Imports"
   ]
  },
  {
   "cell_type": "code",
   "execution_count": null,
   "metadata": {},
   "outputs": [],
   "source": [
    "#None"
   ]
  },
  {
   "cell_type": "markdown",
   "metadata": {},
   "source": [
    "If you believe required imports are missing, please contact your moderator."
   ]
  },
  {
   "cell_type": "markdown",
   "metadata": {},
   "source": [
    "<hr style=\\\"border:2px solid gray\\\"> </hr>"
   ]
  },
  {
   "cell_type": "markdown",
   "metadata": {},
   "source": [
    "## Task 2"
   ]
  },
  {
   "cell_type": "markdown",
   "metadata": {},
   "source": [
    "Use the below information to create a Naive Bayes SPAM filter. Test your filter using the messages in new_emails. You may add as many cells as you require to complete the task."
   ]
  },
  {
   "cell_type": "code",
   "execution_count": 2,
   "metadata": {},
   "outputs": [],
   "source": [
    "previous_spam = ['send us your password', 'review our website', 'send your password', 'send us your account']\n",
    "previous_ham = ['Your activity report','benefits physical activity', 'the importance vows']\n",
    "new_emails = {'spam':['renew your password', 'renew your vows'], 'ham':['benefits of our account', 'the importance of physical activity']}"
   ]
  },
  {
   "cell_type": "markdown",
   "metadata": {},
   "source": [
    "### Solution\n",
    "\n",
    "*Notes to self:*\n",
    "\n",
    "Hypothesis = 'This new email is spam'\n",
    "\n",
    "Evidence = 'There are words from previous_spam in this email'\n",
    "\n",
    "| Symbol | Description |\n",
    "|:-|:-|\n",
    "| P(H) | Marginal probability that a new email is spam regardless of contents = Proportion of all emails that are spam |\n",
    "| P(E) | Marginal probability that there are spam words in any given email = Proportion of all emails that contain spam words |\n",
    "| P(E/H) | Probability that there are spam words in an email given that it is spam |\n",
    "| P(H/E) | Probability that an email is spam given that it contains spam words |\n",
    "\n",
    "Bayes' Theorem:\n",
    "$$ P(H|E) = \\frac{P(E|H)P(H)}{P(E)} = \\frac{P(E|H)P(H)}{P(E|H)P(H) + P(E|\\overline{H})P(\\overline{H})} $$\n",
    "\n",
    "Naive Bayes:\n",
    "$$ P(S|x_1, x_2, ..., x_n) \\approx \\frac{P(S)\\prod_{i=1}^n P(x_n|S)}{P(S)\\prod_{i=1}^n P(x_n|S) + P(H)\\prod_{i=1}^n P(x_n|H)} $$"
   ]
  },
  {
   "cell_type": "code",
   "execution_count": 99,
   "metadata": {},
   "outputs": [],
   "source": [
    "def msg_lower(msg_list):\n",
    "    '''\n",
    "    Converts all characters in a list of messages\n",
    "    to lower case. Conversion is performed in-place.\n",
    "    '''\n",
    "    for i in range(0,len(msg_list)):\n",
    "        msg_list[i] = msg_list[i].lower()\n",
    "    \n",
    "    return None\n",
    "    \n",
    "    \n",
    "def word_set(msg_list):\n",
    "    '''\n",
    "    Function to create set of unique words from \n",
    "    list of messages.\n",
    "    Returns a set of strings.\n",
    "    '''\n",
    "    words = set()\n",
    "    for msg in msg_list:\n",
    "        for word in msg.split():\n",
    "            words.add(word)\n",
    "    \n",
    "    return words\n",
    "\n",
    "\n",
    "def word_smooth_prob(word, msg_list):\n",
    "    '''\n",
    "    Calculate the Laplace smoothed probability of word appearing \n",
    "    in each message in msg_list.\n",
    "    1. Count how many messages in msg_list contain word & add 1. \n",
    "    2. Divide this by the number of messages in msg_list plus 2.\n",
    "    Returns a float.\n",
    "    '''\n",
    "    count = 0\n",
    "    for msg in msg_list:\n",
    "        if word in msg.split():\n",
    "            count += 1\n",
    "    \n",
    "    return (float(count) + 1) / (float(len(msg_list)) + 2)\n",
    "\n",
    "\n",
    "def word_prob_dict(word_list, msg_list):\n",
    "    '''\n",
    "    Returns a dictionary of word:probability pairs for the\n",
    "    words in the input word_list.\n",
    "    '''\n",
    "    prob_dict = {}\n",
    "    for word in word_list:\n",
    "        prob_dict[word.lower()] = word_smooth_prob(word.lower(), msg_list)\n",
    "        \n",
    "    return prob_dict\n",
    "\n",
    "def marginal_prob(a_list,b_list):\n",
    "    '''\n",
    "    '''\n",
    "    return len(a_list) / (len(a_list) + len(b_list))"
   ]
  },
  {
   "cell_type": "markdown",
   "metadata": {},
   "source": []
  },
  {
   "cell_type": "code",
   "execution_count": 102,
   "metadata": {},
   "outputs": [],
   "source": [
    "# Convert all words in message lists to lower case before matching\n",
    "msg_lower(previous_spam)\n",
    "msg_lower(previous_ham)\n",
    "\n",
    "# Create sets of unique words per message list\n",
    "previous_spam_words = word_set(previous_spam)\n",
    "previous_ham_words = word_set(previous_ham)\n",
    "\n",
    "# Build dictionaries of probabilities for each word per message list\n",
    "previous_spam_prob = word_prob_dict(word_set(previous_spam), previous_spam)\n",
    "previous_ham_prob = word_prob_dict(word_set(previous_ham), previous_ham)\n",
    "\n",
    "# Calculate the marginal probabilities for spam & ham\n",
    "marg_prob_spam = marginal_prob(previous_spam, previous_ham)\n",
    "marg_prob_ham = marginal_prob(previous_ham, previous_spam)"
   ]
  },
  {
   "cell_type": "markdown",
   "metadata": {},
   "source": [
    "<hr style=\\\"border:2px solid gray\\\"> </hr>"
   ]
  },
  {
   "cell_type": "markdown",
   "metadata": {},
   "source": [
    "## Reflection"
   ]
  },
  {
   "cell_type": "markdown",
   "metadata": {},
   "source": [
    "Write you reflection in below cell."
   ]
  },
  {
   "cell_type": "markdown",
   "metadata": {},
   "source": []
  }
 ],
 "metadata": {
  "kernelspec": {
   "display_name": "Python 3",
   "language": "python",
   "name": "python3"
  },
  "language_info": {
   "codemirror_mode": {
    "name": "ipython",
    "version": 3
   },
   "file_extension": ".py",
   "mimetype": "text/x-python",
   "name": "python",
   "nbconvert_exporter": "python",
   "pygments_lexer": "ipython3",
   "version": "3.8.8"
  }
 },
 "nbformat": 4,
 "nbformat_minor": 2
}
