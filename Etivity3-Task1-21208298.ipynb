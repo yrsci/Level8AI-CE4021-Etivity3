{
 "cells": [
  {
   "cell_type": "markdown",
   "metadata": {},
   "source": [
    "# Notebook E-tivity 3 CE4021 Task 1"
   ]
  },
  {
   "cell_type": "markdown",
   "metadata": {},
   "source": [
    "Student name: Yvonne Ryan"
   ]
  },
  {
   "cell_type": "markdown",
   "metadata": {},
   "source": [
    "Student ID: 21208298"
   ]
  },
  {
   "cell_type": "markdown",
   "metadata": {},
   "source": [
    "<hr style=\\\"border:2px solid gray\\\"> </hr>"
   ]
  },
  {
   "cell_type": "markdown",
   "metadata": {},
   "source": [
    "## Imports"
   ]
  },
  {
   "cell_type": "code",
   "execution_count": 4,
   "metadata": {},
   "outputs": [],
   "source": [
    "import numpy as np\n",
    "import math\n",
    "import random\n",
    "import matplotlib.pyplot as plt"
   ]
  },
  {
   "cell_type": "markdown",
   "metadata": {},
   "source": [
    " If you believe required imports are missing, please contact your moderator."
   ]
  },
  {
   "cell_type": "markdown",
   "metadata": {},
   "source": [
    "<hr style=\\\"border:2px solid gray\\\"> </hr>"
   ]
  },
  {
   "cell_type": "markdown",
   "metadata": {},
   "source": [
    "## Task 1"
   ]
  },
  {
   "cell_type": "markdown",
   "metadata": {},
   "source": [
    "You may add as many cells as you require to complete the task."
   ]
  },
  {
   "cell_type": "markdown",
   "metadata": {},
   "source": [
    "### Problem Description:"
   ]
  },
  {
   "cell_type": "markdown",
   "metadata": {},
   "source": [
    "Option Dice:  Rolling two 6-sided fair dice with the aim of determining the probability that the sum of the two dice is less than 3 or more than 10.\n",
    "\n",
    "- Briefly explain the type of random variable and probability distribution you will use. The choice of a continuous or a discrete random variable, and the probability distribution (normal, uniform, binomial, ..) should be informed by the type of experiment.\n",
    "- Write Python code to simulate the experiment. The code should run the experiment a sufficient number of times such that you can experimentally approximate the following:\n",
    "\n",
    " - The expected value of your random variable.\n",
    "\n",
    " - The standard deviation of your random variable.\n",
    "\n",
    " - Plot the distribution found in your simulated experiment with an appropriate number of 'bins'\n",
    "\n",
    "N.B.:\n",
    "\n",
    "Structure your notebook as follows:\n",
    "1. Markdown cell with problem description\n",
    "2. Markdown cells with expected value and standard deviation of your random variable\n",
    "3. Cell(s) with experiment\n",
    "4. Cell(s) with outputs and graphs\n",
    "5. Commentary comparing calculated values to experimentally obtained values.\n",
    "\n",
    "You may only use the following modules:\n",
    "1. Random\n",
    "2. Numpy\n",
    "3. A visualisation module such as Matplotlib\n",
    "4. Math\n",
    "\n",
    "You are not required to perform exception handling.\n",
    "You are not required to provide tests for your code.\n"
   ]
  },
  {
   "cell_type": "markdown",
   "metadata": {},
   "source": [
    "### Solution:"
   ]
  },
  {
   "cell_type": "markdown",
   "metadata": {},
   "source": [
    "Probability Mass Function - for discrete random variables"
   ]
  },
  {
   "cell_type": "markdown",
   "metadata": {},
   "source": [
    "#### Expected Value & Standard Deviation"
   ]
  },
  {
   "cell_type": "markdown",
   "metadata": {},
   "source": [
    "#### Simulation"
   ]
  },
  {
   "cell_type": "markdown",
   "metadata": {},
   "source": [
    "First, we define functions that will perform the dice-rolling simulation. Each trial consists of generating a set of random numbers ranging from 1 to 6 (inclusive), summing these and appending the sum to a list of results. The function performs an arbritrary number of trials *n_trials*, for an arbritrary number of dice *n_dice*. Both of these parameters are set when the function is called."
   ]
  },
  {
   "cell_type": "code",
   "execution_count": 156,
   "metadata": {},
   "outputs": [],
   "source": [
    "def dice_trials(n_dice, n_trials):\n",
    "    '''\n",
    "    Simulates rolling a number (n_dice) of fair 6-sided \n",
    "    dice a number (n_trials) of times, and returns a list\n",
    "    of the results from all trials.\n",
    "    '''\n",
    "    \n",
    "    def dice_sum(n_dice):\n",
    "        '''\n",
    "        Simulates rolling a number (n_dice) of 6-sided dice\n",
    "        and sums the result.\n",
    "        Returns an integer.\n",
    "        '''\n",
    "        # Initialise running total\n",
    "        total = 0\n",
    "        \n",
    "        # Iterate through all the dice\n",
    "        for n in range(0, n_dice):\n",
    "            \n",
    "            # Roll the next die & add the result to total\n",
    "            total += random.randint(1,6)\n",
    "            \n",
    "        return total\n",
    "    \n",
    "    # Perform all trials & return the list of results\n",
    "    return [dice_sum(n_dice) for n in range(0, n_trials)]\n"
   ]
  },
  {
   "cell_type": "markdown",
   "metadata": {},
   "source": [
    "Set parameters & run the simulation.\n",
    "\n",
    "As defined in the problem statement, the number of trials will be set to 2 so as to simulate a pair of dice."
   ]
  },
  {
   "cell_type": "code",
   "execution_count": 162,
   "metadata": {},
   "outputs": [],
   "source": [
    "# Set parameters for the simulation\n",
    "n_dice = 2\n",
    "n_trials = 1000000\n",
    "\n",
    "# Run the simulation\n",
    "result = dice_trials(n_dice, n_trials)\n",
    "\n",
    "# Count the frequency of each outcome\n",
    "outcome, freq = np.unique(np.array(result), return_counts = True)\n",
    "\n",
    "# try zipping outcome & freq to find prob. of <3, >10"
   ]
  },
  {
   "cell_type": "markdown",
   "metadata": {},
   "source": [
    "Plot the results of the simulation:"
   ]
  },
  {
   "cell_type": "code",
   "execution_count": 165,
   "metadata": {},
   "outputs": [
    {
     "data": {
      "image/png": "[encoded data removed]",
      "text/plain": [
       "<Figure size 432x288 with 1 Axes>"
      ]
     },
     "metadata": {
      "needs_background": "light"
     },
     "output_type": "display_data"
    }
   ],
   "source": [
    "# Initialise plot\n",
    "plt.figure()\n",
    "\n",
    "# Plot the results\n",
    "plt.bar(outcome, freq/n_trials, tick_label=outcome)\n",
    "\n",
    "# Add title, gridlines & axis labels\n",
    "plt.title(\"The sum of {} fair dice: {} trials\".format(n_dice, n_trials))\n",
    "plt.grid(b=True, which='major', axis='both')\n",
    "plt.xlabel(\"Sum of 2 dice\")\n",
    "plt.ylabel(\"Probability\")\n",
    "\n",
    "# Display the plot\n",
    "plt.show()"
   ]
  },
  {
   "cell_type": "markdown",
   "metadata": {},
   "source": [
    "<hr style=\\\"border:2px solid gray\\\"> </hr>"
   ]
  },
  {
   "cell_type": "markdown",
   "metadata": {},
   "source": [
    "## Reflection"
   ]
  },
  {
   "cell_type": "markdown",
   "metadata": {},
   "source": [
    "Write you reflection in below cell."
   ]
  },
  {
   "cell_type": "markdown",
   "metadata": {},
   "source": []
  }
 ],
 "metadata": {
  "kernelspec": {
   "display_name": "Python 3",
   "language": "python",
   "name": "python3"
  },
  "language_info": {
   "codemirror_mode": {
    "name": "ipython",
    "version": 3
   },
   "file_extension": ".py",
   "mimetype": "text/x-python",
   "name": "python",
   "nbconvert_exporter": "python",
   "pygments_lexer": "ipython3",
   "version": "3.8.8"
  }
 },
 "nbformat": 4,
 "nbformat_minor": 2
}
